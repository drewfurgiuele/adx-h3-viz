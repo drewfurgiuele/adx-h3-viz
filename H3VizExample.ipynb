{
 "cells": [
  {
   "cell_type": "markdown",
   "id": "cef532bb-1f1d-4201-87a2-47076d92278d",
   "metadata": {},
   "source": [
    "# Visualizing H3 Cells with Data Explorer and Python\n",
    "\n",
    "This notebook is designed to show you what is involved in querying geospatial data from Azure Data Explorer and rendering the results using different Python libraries and Jupyter extensions.\n",
    "\n",
    "For instructions on setting up your environment to run these demos, please see: https://github.com/drewfurgiuele/adx-h3-viz/blob/main/README.md"
   ]
  },
  {
   "cell_type": "markdown",
   "id": "a8aa8beb-afd9-4c20-81c5-fcb00c6af8d2",
   "metadata": {},
   "source": [
    "## Importing Required Libraries\n",
    "\n",
    "There are two demos in this notebook; one uses Plotly and the other uses Kepler.gl. The following cell imports libraries to support both demos."
   ]
  },
  {
   "cell_type": "code",
   "execution_count": null,
   "id": "46c4b49f-31f9-4630-8c2b-5ea6f40fa296",
   "metadata": {},
   "outputs": [],
   "source": [
    "import pandas\n",
    "import numpy\n",
    "import json\n",
    "import geojson\n",
    "from azure.kusto.data import KustoClient, KustoConnectionStringBuilder\n",
    "from azure.kusto.data.exceptions import KustoServiceError\n",
    "from azure.kusto.data.helpers import dataframe_from_result_table\n",
    "import pandas as pd\n",
    "import plotly.express as px\n",
    "import plotly.graph_objects as go\n",
    "from keplergl import KeplerGl"
   ]
  },
  {
   "cell_type": "markdown",
   "id": "fa16eb9d-ad7b-4cf7-a166-cbf6512bdfaa",
   "metadata": {},
   "source": [
    "## Setting up varibles for Azure Data Explorer connection\n",
    "\n",
    "The following cells sets your cluster and database settings for connecting via the Python SDK for Kusto. Note that you will need to provide your cluster URL below, replacing the \"<your cluster here>\" section with your specific URL."
   ]
  },
  {
   "cell_type": "code",
   "execution_count": null,
   "id": "bbb51174-41a5-4b86-9c7b-18fcd6492742",
   "metadata": {},
   "outputs": [],
   "source": [
    "AAD_TENANT_ID = \"common\"\n",
    "KUSTO_CLUSTER = \"https://kvcd43df9301b3242b991a.southcentralus.kusto.windows.net/\"\n",
    "KUSTO_DATABASE = \"opencellid\""
   ]
  },
  {
   "cell_type": "code",
   "execution_count": null,
   "id": "712318de-d5d7-4251-ba99-4e00aafec154",
   "metadata": {},
   "outputs": [],
   "source": [
    "KCSB = KustoConnectionStringBuilder.with_aad_device_authentication(KUSTO_CLUSTER)\n",
    "KCSB.authority_id = AAD_TENANT_ID\n",
    "KUSTO_CLIENT = KustoClient(KCSB)"
   ]
  },
  {
   "cell_type": "markdown",
   "id": "e9bd984f-36e4-4a21-8475-f7f0a20acc48",
   "metadata": {},
   "source": [
    "## Executing your Kusto query\n",
    "\n",
    "This cell will query your database. Note that in the query below, substitute your MCC query to whatever dataset you loaded. The example below is for The Netherlands (MCC==204) so change it according to what you want to see. Notice the last ```extend``` statement: We're adding the required structure used by the GeoJSON standard by using the ```pack()``` function.\n",
    "\n",
    "When you run the cell, a new web browser will open asking you to authenticate yourself. You will need the code at the bottom of the cell, and then you'll follow the normal authentication flow."
   ]
  },
  {
   "cell_type": "code",
   "execution_count": null,
   "id": "895959b2-897c-4a17-8db3-0da8f8bd1250",
   "metadata": {},
   "outputs": [],
   "source": [
    "KUSTO_QUERY = \"\"\"OpenCellH3Data\n",
    "| where MCC == 204\n",
    "| where isnotempty(H3_Medium)\n",
    "| summarize arg_max(Updated, *) by RadioType, MCC, MNC, LAC\n",
    "| summarize SignalStrength=avg(AvgSignal), dcount(LAC), UmtsCells = countif(RadioType == \"UMTS\"), LTE = countif(RadioType == \"LTE\") by H3_Medium\n",
    "| extend H3_Hash_Polygon = geo_h3cell_to_polygon(H3_Medium)\n",
    "| extend Features=pack(\n",
    "    \"geometry\", H3_Hash_Polygon,\n",
    "    \"id\", H3_Medium,\n",
    "    \"properties\",pack(\"value\", UmtsCells),\n",
    "    \"type\", \"Feature\")\"\"\"\n",
    "\n",
    "RESPONSE = KUSTO_CLIENT.execute(KUSTO_DATABASE, KUSTO_QUERY)"
   ]
  },
  {
   "cell_type": "markdown",
   "id": "5ab48f04-bd63-41e6-9556-a05be225e936",
   "metadata": {},
   "source": [
    "## Creating the GeoJSON FeatureList\n",
    "\n",
    "To properly format the GeoJSON object for rendering the results, the following two cells will take the Kusto result set and convert it to a GeoJSON feature list. This object will then be used later on in the charts."
   ]
  },
  {
   "cell_type": "code",
   "execution_count": null,
   "id": "68dda4d4-2ff4-4093-8c4f-e3a7587a7a96",
   "metadata": {},
   "outputs": [],
   "source": [
    "df = dataframe_from_result_table(RESPONSE.primary_results[0])\n",
    "feature_list = df['Features'].to_list()"
   ]
  },
  {
   "cell_type": "code",
   "execution_count": null,
   "id": "ed7524dd-d070-4243-abed-cfc82c1c3402",
   "metadata": {},
   "outputs": [],
   "source": [
    "from geojson import FeatureCollection\n",
    "feat_collection = FeatureCollection(feature_list)"
   ]
  },
  {
   "cell_type": "markdown",
   "id": "cfefb9a6-0cb1-4e3f-83b9-452fb05ed69e",
   "metadata": {},
   "source": [
    "## Plotting H3 with Plotly\n",
    "\n",
    "Plotly provides the choropleth_mapbox method for rendering the data. At a high level, we use the feature collection we created above to set the geojson value, and set the \"colors\" of the cells to measure the different ranges of the indexes. The one thing to note here is that this map does not auto-center on your data; therefore, if you use a different MCC code you'll need to set the center values to set the map location. Finally, we're setting the \"hover_data\" array to tell the map which properties to show when someone places their cursor over the cells."
   ]
  },
  {
   "cell_type": "code",
   "execution_count": null,
   "id": "e5f29d4a-ccd2-45c8-842b-6e375f8bdc89",
   "metadata": {},
   "outputs": [],
   "source": [
    "fig = (px.choropleth_mapbox(\n",
    "    df, \n",
    "    geojson=feat_collection, \n",
    "    locations='H3_Medium', \n",
    "    color='UmtsCells',\n",
    "    color_continuous_scale=\"agsunset\",\n",
    "    range_color=(0,df.UmtsCells.mean()),                  \n",
    "    mapbox_style='carto-positron',\n",
    "    zoom=6.5,\n",
    "    center = {\"lat\": 52.1326, \"lon\": 5.2913},            \n",
    "    opacity=0.6,\n",
    "    hover_data=['SignalStrength','dcount_LAC','UmtsCells','LTE'],\n",
    "    width=700,\n",
    "    height=800,\n",
    "))"
   ]
  },
  {
   "cell_type": "code",
   "execution_count": null,
   "id": "bd0d10b5-0cfa-4a41-83c0-d3a2966c1d94",
   "metadata": {},
   "outputs": [],
   "source": [
    "fig.update_layout(margin={\"r\":0,\"t\":0,\"l\":0,\"b\":0})\n",
    "fig.show() "
   ]
  },
  {
   "cell_type": "markdown",
   "id": "4443d940-b458-4f61-bea7-65b82635df39",
   "metadata": {},
   "source": [
    "## Plotting H3 Data with Kepler.gl\n",
    "\n",
    "Plotting the same results set with Kepler.gl works much the same way. First, initalize the map with your desired height and width. Next, call the ```add_data()``` method to add the feature collection to the map, and to name the dataset. Once the data is loaded, you can customer the map colors, rotation, height of the cells, etc from the built-in control panel."
   ]
  },
  {
   "cell_type": "code",
   "execution_count": null,
   "id": "a3a9fe95-d871-4650-9ea3-bbb27e4c513d",
   "metadata": {},
   "outputs": [],
   "source": [
    "map_2 = KeplerGl(height=600)\n",
    "map_2.add_data(data=json.dumps(feat_collection), name='NL Cell Coverage')\n",
    "map_2"
   ]
  },
  {
   "cell_type": "markdown",
   "id": "05cbec70-91c8-473d-bed0-d329e53adb1f",
   "metadata": {},
   "source": [
    "### Exporting and using your map configuration\n",
    "\n",
    "Once you have your plotted data looking the way you'd like, you can use the .config property to get the saved styles and map settings. You can then load that configuration when you create another map"
   ]
  },
  {
   "cell_type": "code",
   "execution_count": null,
   "id": "a7066bbf-a478-49f8-a7f0-a90fce5476a8",
   "metadata": {},
   "outputs": [],
   "source": [
    "map_config = map_2.config"
   ]
  },
  {
   "cell_type": "code",
   "execution_count": null,
   "id": "a9d72261-7531-4833-a913-2b958c059d13",
   "metadata": {},
   "outputs": [],
   "source": [
    "map_3 = KeplerGl(height=600)\n",
    "map_3.add_data(data=json.dumps(feat_collection), name='NL Cell Coverage')\n",
    "map_3.config = map_config\n",
    "map_3"
   ]
  }
 ],
 "metadata": {
  "kernelspec": {
   "display_name": "Python 3 (ipykernel)",
   "language": "python",
   "name": "python3"
  },
  "language_info": {
   "codemirror_mode": {
    "name": "ipython",
    "version": 3
   },
   "file_extension": ".py",
   "mimetype": "text/x-python",
   "name": "python",
   "nbconvert_exporter": "python",
   "pygments_lexer": "ipython3",
   "version": "3.9.12"
  }
 },
 "nbformat": 4,
 "nbformat_minor": 5
}
